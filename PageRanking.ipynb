{
 "cells": [
  {
   "cell_type": "code",
   "execution_count": 3,
   "metadata": {},
   "outputs": [],
   "source": [
    "import requests\n",
    "from bs4 import BeautifulSoup\n",
    "from collections import defaultdict"
   ]
  },
  {
   "cell_type": "code",
   "execution_count": 4,
   "metadata": {},
   "outputs": [],
   "source": [
    "def get_links_from_page(url):\n",
    "    \"\"\"Extract links from a given web page.\"\"\"\n",
    "    try:\n",
    "        response = requests.get(url)\n",
    "        soup = BeautifulSoup(response.content, \"html.parser\")\n",
    "        links = {link.get('href') for link in soup.find_all('a', href=True)}\n",
    "        # Filter links to avoid JavaScript, None, or malformed URLs\n",
    "        return {link for link in links if link.startswith(\"http\")}\n",
    "    except Exception as e:\n",
    "        print(f\"Error fetching links from {url}: {e}\")\n",
    "        return set()"
   ]
  },
  {
   "cell_type": "code",
   "execution_count": 5,
   "metadata": {},
   "outputs": [],
   "source": [
    "def build_web_graph(seed_urls, max_pages=10):\n",
    "    \"\"\"Build a web graph starting from seed URLs.\"\"\"\n",
    "    web_graph = defaultdict(set)\n",
    "    visited = set()\n",
    "\n",
    "    to_visit = seed_urls[:]\n",
    "    while to_visit and len(visited) < max_pages:\n",
    "        url = to_visit.pop(0)\n",
    "        if url not in visited:\n",
    "            visited.add(url)\n",
    "            links = get_links_from_page(url)\n",
    "            web_graph[url].update(links)\n",
    "            # Add new links to the to_visit list if not already visited\n",
    "            to_visit.extend(links - visited)\n",
    "\n",
    "    return web_graph"
   ]
  },
  {
   "cell_type": "code",
   "execution_count": 6,
   "metadata": {},
   "outputs": [],
   "source": [
    "def page_rank(graph, iterations=100, damping_factor=0.85):\n",
    "    \"\"\"Calculate PageRank scores using the iterative method.\"\"\"\n",
    "    # Initialize PageRank values\n",
    "    num_pages = len(graph)\n",
    "    ranks = {page: 1 / num_pages for page in graph}\n",
    "\n",
    "    for _ in range(iterations):\n",
    "        new_ranks = {}\n",
    "        for page in graph:\n",
    "            rank_sum = 0\n",
    "            for other_page in graph:\n",
    "                if page in graph[other_page]:\n",
    "                    rank_sum += ranks[other_page] / len(graph[other_page])\n",
    "            new_ranks[page] = (1 - damping_factor) / num_pages + damping_factor * rank_sum\n",
    "        ranks = new_ranks\n",
    "\n",
    "    return ranks"
   ]
  },
  {
   "cell_type": "code",
   "execution_count": 7,
   "metadata": {},
   "outputs": [
    {
     "name": "stdout",
     "output_type": "stream",
     "text": [
      "PageRank Scores:\n",
      "https://medium.com/@lelambonzo/implementing-pagerank-algorithm-in-python-for-web-graph-analysis-718f34c9e4fb: 0.015000000000000003\n",
      "https://www.geeksforgeeks.org/page-rank-algorithm-implementation/: 0.015000000000000003\n",
      "https://github.com/lelambonzo/pagerank-graph-analysis.git: 0.016062500000000004\n",
      "https://policy.medium.com/medium-privacy-policy-f03bf92035c9?source=post_page-----718f34c9e4fb--------------------------------: 0.016062500000000004\n",
      "https://speechify.com/medium?source=post_page-----718f34c9e4fb--------------------------------: 0.016062500000000004\n",
      "https://gist.github.com/lelambonzo/ac2b04101d45556d05f6a8d9608a8b31: 0.016062500000000004\n",
      "https://blog.medium.com/?source=post_page-----718f34c9e4fb--------------------------------: 0.016062500000000004\n",
      "https://medium.statuspage.io/?source=post_page-----718f34c9e4fb--------------------------------: 0.016062500000000004\n",
      "https://rsci.app.link/?%24canonical_url=https%3A%2F%2Fmedium.com%2Fp%2F718f34c9e4fb&%7Efeature=LoOpenInAppButton&%7Echannel=ShowPostUnderUser&source=---top_nav_layout_nav----------------------------------: 0.016062500000000004\n",
      "https://policy.medium.com/medium-terms-of-service-9db0094a1e0f?source=post_page-----718f34c9e4fb--------------------------------: 0.016062500000000004\n"
     ]
    }
   ],
   "source": [
    "# Example usage\n",
    "seed_urls = [\n",
    "    \"https://medium.com/@lelambonzo/implementing-pagerank-algorithm-in-python-for-web-graph-analysis-718f34c9e4fb\",  # Replace with real URLs\n",
    "    \"https://www.geeksforgeeks.org/page-rank-algorithm-implementation/\"\n",
    "]\n",
    "web_graph = build_web_graph(seed_urls)\n",
    "ranks = page_rank(web_graph)\n",
    "\n",
    "print(\"PageRank Scores:\")\n",
    "for page, score in ranks.items():\n",
    "    print(f\"{page}: {score}\")\n"
   ]
  }
 ],
 "metadata": {
  "kernelspec": {
   "display_name": "base",
   "language": "python",
   "name": "python3"
  },
  "language_info": {
   "codemirror_mode": {
    "name": "ipython",
    "version": 3
   },
   "file_extension": ".py",
   "mimetype": "text/x-python",
   "name": "python",
   "nbconvert_exporter": "python",
   "pygments_lexer": "ipython3",
   "version": "3.11.5"
  }
 },
 "nbformat": 4,
 "nbformat_minor": 2
}
