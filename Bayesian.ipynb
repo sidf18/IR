{
 "cells": [
  {
   "cell_type": "code",
   "execution_count": 1,
   "id": "9fa004d3-64bb-4515-84c2-64524369a91e",
   "metadata": {},
   "outputs": [],
   "source": [
    "import pandas as pd\n",
    "\n",
    "# Load the dataset from the file (replace 'IR_3 ds4.xls' with your actual file name and extension)\n",
    "file_path = 'IR3-dataset.csv'  # Assuming a .csv file format here\n",
    "\n",
    "# Load the data with a single column, and then expand it into separate columns\n",
    "data = pd.read_csv(file_path, header=None)\n",
    "\n",
    "# Assuming all data is in the first column, split it into separate columns\n",
    "data = data[0].str.split(',', expand=True)\n",
    "\n",
    "# Assign column names based on the provided structure\n",
    "data.columns = ['age', 'Gender', 'Family', 'diet', 'Lifestyle', 'cholestrol', 'heartdisease']\n"
   ]
  },
  {
   "cell_type": "code",
   "execution_count": 2,
   "id": "10e14c5a-6736-47f2-8ad6-3c825a72d16b",
   "metadata": {},
   "outputs": [],
   "source": [
    "# Convert data to numeric if necessary (assuming all values are categorical or integer)\n",
    "data = data.apply(pd.to_numeric, errors='coerce')\n",
    "\n",
    "# Drop rows with missing values (optional, depending on your use case)\n",
    "data.dropna(inplace=True)\n"
   ]
  },
  {
   "cell_type": "code",
   "execution_count": 3,
   "id": "01583e4f-c935-4ffb-87c3-196044517894",
   "metadata": {},
   "outputs": [
    {
     "name": "stderr",
     "output_type": "stream",
     "text": [
      "C:\\Users\\hp\\AppData\\Local\\Programs\\Python\\Python312\\Lib\\site-packages\\tqdm\\auto.py:21: TqdmWarning: IProgress not found. Please update jupyter and ipywidgets. See https://ipywidgets.readthedocs.io/en/stable/user_install.html\n",
      "  from .autonotebook import tqdm as notebook_tqdm\n"
     ]
    }
   ],
   "source": [
    "from pgmpy.models import BayesianNetwork\n",
    "from pgmpy.estimators import MaximumLikelihoodEstimator\n",
    "from pgmpy.inference import VariableElimination\n",
    "\n",
    "# Define the Bayesian Network structure based on domain knowledge\n",
    "model = BayesianNetwork([\n",
    "    ('age', 'heartdisease'),\n",
    "    ('Gender', 'heartdisease'),\n",
    "    ('Family', 'heartdisease'),\n",
    "    ('diet', 'heartdisease'),\n",
    "    ('Lifestyle', 'heartdisease'),\n",
    "    ('cholestrol', 'heartdisease')\n",
    "])\n",
    "\n",
    "# Fit the model to the data using Maximum Likelihood Estimation\n",
    "model.fit(data, estimator=MaximumLikelihoodEstimator)\n"
   ]
  },
  {
   "cell_type": "code",
   "execution_count": null,
   "id": "684c91c3-e6ad-4b72-8a90-046959d83417",
   "metadata": {},
   "outputs": [],
   "source": [
    "'''0 → Ages 0–20\n",
    "1 → Ages 21–35\n",
    "2 → Ages 36–50\n",
    "3 → Ages 51–65\n",
    "4 → Ages 66+'''"
   ]
  },
  {
   "cell_type": "code",
   "execution_count": 4,
   "id": "b89e17a1-d517-4340-a197-c099829814cd",
   "metadata": {},
   "outputs": [
    {
     "name": "stdout",
     "output_type": "stream",
     "text": [
      "+-------------------+---------------------+\n",
      "| heartdisease      |   phi(heartdisease) |\n",
      "+===================+=====================+\n",
      "| heartdisease(0.0) |              0.5000 |\n",
      "+-------------------+---------------------+\n",
      "| heartdisease(1.0) |              0.5000 |\n",
      "+-------------------+---------------------+\n"
     ]
    }
   ],
   "source": [
    "# Initialize inference engine\n",
    "heart_infer = VariableElimination(model)\n",
    "\n",
    "# Define evidence based on a hypothetical patient profile\n",
    "evidence = {\n",
    "    'age': 3,           # Example age category\n",
    "    'Gender': 0,        # Example gender (0 for female, 1 for male)\n",
    "    'Family': 0,        # Example family history\n",
    "    'diet': 0,          # Example diet type\n",
    "    'Lifestyle': 2,     # Example lifestyle rating\n",
    "    'cholestrol': 2     # Example cholesterol level\n",
    "}\n",
    "\n",
    "# Query the model to get the probability of heart disease\n",
    "q = heart_infer.query(variables=['heartdisease'], evidence=evidence)\n",
    "\n",
    "print(q)\n"
   ]
  },
  {
   "cell_type": "code",
   "execution_count": 6,
   "id": "1c402b86-5e4d-417d-8985-e75455822eca",
   "metadata": {},
   "outputs": [
    {
     "data": {
      "text/plain": [
       "Index(['age', 'Gender', 'Family', 'diet', 'Lifestyle', 'cholestrol',\n",
       "       'heartdisease'],\n",
       "      dtype='object')"
      ]
     },
     "execution_count": 6,
     "metadata": {},
     "output_type": "execute_result"
    }
   ],
   "source": [
    "data.columns"
   ]
  },
  {
   "cell_type": "code",
   "execution_count": 7,
   "id": "cebd8940-39fc-4723-886a-2d1986d13ccf",
   "metadata": {},
   "outputs": [
    {
     "data": {
      "text/html": [
       "<div>\n",
       "<style scoped>\n",
       "    .dataframe tbody tr th:only-of-type {\n",
       "        vertical-align: middle;\n",
       "    }\n",
       "\n",
       "    .dataframe tbody tr th {\n",
       "        vertical-align: top;\n",
       "    }\n",
       "\n",
       "    .dataframe thead th {\n",
       "        text-align: right;\n",
       "    }\n",
       "</style>\n",
       "<table border=\"1\" class=\"dataframe\">\n",
       "  <thead>\n",
       "    <tr style=\"text-align: right;\">\n",
       "      <th></th>\n",
       "      <th>age</th>\n",
       "      <th>Gender</th>\n",
       "      <th>Family</th>\n",
       "      <th>diet</th>\n",
       "      <th>Lifestyle</th>\n",
       "      <th>cholestrol</th>\n",
       "      <th>heartdisease</th>\n",
       "    </tr>\n",
       "  </thead>\n",
       "  <tbody>\n",
       "    <tr>\n",
       "      <th>1</th>\n",
       "      <td>0.0</td>\n",
       "      <td>0.0</td>\n",
       "      <td>1.0</td>\n",
       "      <td>1.0</td>\n",
       "      <td>3.0</td>\n",
       "      <td>0.0</td>\n",
       "      <td>1.0</td>\n",
       "    </tr>\n",
       "    <tr>\n",
       "      <th>2</th>\n",
       "      <td>0.0</td>\n",
       "      <td>1.0</td>\n",
       "      <td>1.0</td>\n",
       "      <td>1.0</td>\n",
       "      <td>3.0</td>\n",
       "      <td>0.0</td>\n",
       "      <td>1.0</td>\n",
       "    </tr>\n",
       "    <tr>\n",
       "      <th>3</th>\n",
       "      <td>1.0</td>\n",
       "      <td>0.0</td>\n",
       "      <td>0.0</td>\n",
       "      <td>0.0</td>\n",
       "      <td>2.0</td>\n",
       "      <td>1.0</td>\n",
       "      <td>1.0</td>\n",
       "    </tr>\n",
       "    <tr>\n",
       "      <th>4</th>\n",
       "      <td>4.0</td>\n",
       "      <td>0.0</td>\n",
       "      <td>1.0</td>\n",
       "      <td>1.0</td>\n",
       "      <td>3.0</td>\n",
       "      <td>2.0</td>\n",
       "      <td>0.0</td>\n",
       "    </tr>\n",
       "    <tr>\n",
       "      <th>5</th>\n",
       "      <td>3.0</td>\n",
       "      <td>1.0</td>\n",
       "      <td>1.0</td>\n",
       "      <td>0.0</td>\n",
       "      <td>0.0</td>\n",
       "      <td>2.0</td>\n",
       "      <td>0.0</td>\n",
       "    </tr>\n",
       "  </tbody>\n",
       "</table>\n",
       "</div>"
      ],
      "text/plain": [
       "   age  Gender  Family  diet  Lifestyle  cholestrol  heartdisease\n",
       "1  0.0     0.0     1.0   1.0        3.0         0.0           1.0\n",
       "2  0.0     1.0     1.0   1.0        3.0         0.0           1.0\n",
       "3  1.0     0.0     0.0   0.0        2.0         1.0           1.0\n",
       "4  4.0     0.0     1.0   1.0        3.0         2.0           0.0\n",
       "5  3.0     1.0     1.0   0.0        0.0         2.0           0.0"
      ]
     },
     "execution_count": 7,
     "metadata": {},
     "output_type": "execute_result"
    }
   ],
   "source": [
    "data.head()"
   ]
  },
  {
   "cell_type": "code",
   "execution_count": null,
   "id": "c46bc5c3-fe1c-4b5e-bb4c-6b607e96a348",
   "metadata": {},
   "outputs": [],
   "source": []
  }
 ],
 "metadata": {
  "kernelspec": {
   "display_name": "Python 3 (ipykernel)",
   "language": "python",
   "name": "python3"
  },
  "language_info": {
   "codemirror_mode": {
    "name": "ipython",
    "version": 3
   },
   "file_extension": ".py",
   "mimetype": "text/x-python",
   "name": "python",
   "nbconvert_exporter": "python",
   "pygments_lexer": "ipython3",
   "version": "3.12.1"
  }
 },
 "nbformat": 4,
 "nbformat_minor": 5
}
