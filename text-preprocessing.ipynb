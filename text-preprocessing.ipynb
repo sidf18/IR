{
 "cells": [
  {
   "cell_type": "code",
   "execution_count": 1,
   "id": "ee83b2ad-b2dd-4c4d-8e15-e05511432518",
   "metadata": {},
   "outputs": [
    {
     "name": "stdout",
     "output_type": "stream",
     "text": [
      "Requirement already satisfied: nltk in c:\\users\\hp\\appdata\\local\\programs\\python\\python312\\lib\\site-packages (3.8.1)\n",
      "Requirement already satisfied: click in c:\\users\\hp\\appdata\\local\\programs\\python\\python312\\lib\\site-packages (from nltk) (8.1.7)\n",
      "Requirement already satisfied: joblib in c:\\users\\hp\\appdata\\local\\programs\\python\\python312\\lib\\site-packages (from nltk) (1.4.2)\n",
      "Requirement already satisfied: regex>=2021.8.3 in c:\\users\\hp\\appdata\\local\\programs\\python\\python312\\lib\\site-packages (from nltk) (2024.4.28)\n",
      "Requirement already satisfied: tqdm in c:\\users\\hp\\appdata\\local\\programs\\python\\python312\\lib\\site-packages (from nltk) (4.66.4)\n",
      "Requirement already satisfied: colorama in c:\\users\\hp\\appdata\\local\\programs\\python\\python312\\lib\\site-packages (from click->nltk) (0.4.6)\n",
      "Note: you may need to restart the kernel to use updated packages.\n"
     ]
    },
    {
     "name": "stderr",
     "output_type": "stream",
     "text": [
      "\n",
      "[notice] A new release of pip is available: 23.3.2 -> 24.3.1\n",
      "[notice] To update, run: python.exe -m pip install --upgrade pip\n"
     ]
    }
   ],
   "source": [
    "pip install nltk"
   ]
  },
  {
   "cell_type": "code",
   "execution_count": 2,
   "id": "334b2dcd-4f6b-4e88-be85-f62a88721b6b",
   "metadata": {},
   "outputs": [
    {
     "name": "stderr",
     "output_type": "stream",
     "text": [
      "[nltk_data] Downloading package punkt to\n",
      "[nltk_data]     C:\\Users\\hp\\AppData\\Roaming\\nltk_data...\n",
      "[nltk_data]   Package punkt is already up-to-date!\n",
      "[nltk_data] Downloading package stopwords to\n",
      "[nltk_data]     C:\\Users\\hp\\AppData\\Roaming\\nltk_data...\n",
      "[nltk_data]   Package stopwords is already up-to-date!\n"
     ]
    },
    {
     "data": {
      "text/plain": [
       "True"
      ]
     },
     "execution_count": 2,
     "metadata": {},
     "output_type": "execute_result"
    }
   ],
   "source": [
    "import nltk\n",
    "from nltk.tokenize import word_tokenize\n",
    "from nltk.corpus import stopwords\n",
    "from nltk.stem import PorterStemmer\n",
    "import string\n",
    "\n",
    "# Download necessary NLTK resources\n",
    "nltk.download('punkt')\n",
    "nltk.download('stopwords')"
   ]
  },
  {
   "cell_type": "code",
   "execution_count": 3,
   "id": "b1620268-5a93-4ed6-9853-6bcb050d04ef",
   "metadata": {},
   "outputs": [],
   "source": [
    "# Sample text document\n",
    "text = \"\"\"\n",
    "Natural Language Processing (NLP) is a sub-field of artificial intelligence. It involves the interaction between computers and human languages. \n",
    "The goal of NLP is to enable computers to understand, interpret, and generate human language.\n",
    "\"\"\"\n"
   ]
  },
  {
   "cell_type": "code",
   "execution_count": 4,
   "id": "a0cc69e3-86f8-422e-9423-2cd0dec26f5c",
   "metadata": {},
   "outputs": [
    {
     "name": "stdout",
     "output_type": "stream",
     "text": [
      "Tokens after Tokenization: ['Natural', 'Language', 'Processing', '(', 'NLP', ')', 'is', 'a', 'sub-field', 'of', 'artificial', 'intelligence', '.', 'It', 'involves', 'the', 'interaction', 'between', 'computers', 'and', 'human', 'languages', '.', 'The', 'goal', 'of', 'NLP', 'is', 'to', 'enable', 'computers', 'to', 'understand', ',', 'interpret', ',', 'and', 'generate', 'human', 'language', '.']\n"
     ]
    }
   ],
   "source": [
    "# Step 4: Tokenization (Splitting the text into words)\n",
    "tokens = word_tokenize(text)\n",
    "\n",
    "# Output tokens\n",
    "print(\"Tokens after Tokenization:\", tokens)"
   ]
  },
  {
   "cell_type": "code",
   "execution_count": 5,
   "id": "ce7f0c73-174c-4607-83fe-03d2c56119ce",
   "metadata": {},
   "outputs": [
    {
     "name": "stdout",
     "output_type": "stream",
     "text": [
      "\n",
      "Tokens after Stopword Removal: ['Natural', 'Language', 'Processing', '(', 'NLP', ')', 'sub-field', 'artificial', 'intelligence', '.', 'involves', 'interaction', 'computers', 'human', 'languages', '.', 'goal', 'NLP', 'enable', 'computers', 'understand', ',', 'interpret', ',', 'generate', 'human', 'language', '.']\n"
     ]
    }
   ],
   "source": [
    "# Step 5: Stopword Removal (Remove common words like \"the\", \"is\", etc.)\n",
    "stop_words = set(stopwords.words('english'))  # Set of English stopwords\n",
    "filtered_tokens = [word for word in tokens if word.lower() not in stop_words]\n",
    "\n",
    "# Output filtered tokens\n",
    "print(\"\\nTokens after Stopword Removal:\", filtered_tokens)\n"
   ]
  },
  {
   "cell_type": "code",
   "execution_count": 6,
   "id": "7b146107-4299-453c-9fb7-35f857e30dec",
   "metadata": {},
   "outputs": [
    {
     "name": "stdout",
     "output_type": "stream",
     "text": [
      "\n",
      "Tokens after Punctuation Removal: ['Natural', 'Language', 'Processing', 'NLP', 'sub-field', 'artificial', 'intelligence', 'involves', 'interaction', 'computers', 'human', 'languages', 'goal', 'NLP', 'enable', 'computers', 'understand', 'interpret', 'generate', 'human', 'language']\n"
     ]
    }
   ],
   "source": [
    "# Step 6: Remove Punctuation\n",
    "punctuation = set(string.punctuation)  # Set of punctuation marks\n",
    "filtered_tokens = [word for word in filtered_tokens if word not in punctuation]\n",
    "\n",
    "# Output tokens after punctuation removal\n",
    "print(\"\\nTokens after Punctuation Removal:\", filtered_tokens)\n"
   ]
  },
  {
   "cell_type": "code",
   "execution_count": 7,
   "id": "ae9633ba-cac7-41a8-8c1e-ace2aa430960",
   "metadata": {},
   "outputs": [
    {
     "name": "stdout",
     "output_type": "stream",
     "text": [
      "\n",
      "Tokens after Stemming: ['natur', 'languag', 'process', 'nlp', 'sub-field', 'artifici', 'intellig', 'involv', 'interact', 'comput', 'human', 'languag', 'goal', 'nlp', 'enabl', 'comput', 'understand', 'interpret', 'gener', 'human', 'languag']\n"
     ]
    }
   ],
   "source": [
    "# Step 7: Stemming (Reduce words to their root form)\n",
    "stemmer = PorterStemmer()\n",
    "stemmed_tokens = [stemmer.stem(word) for word in filtered_tokens]\n",
    "\n",
    "# Output stemmed tokens\n",
    "print(\"\\nTokens after Stemming:\", stemmed_tokens)\n"
   ]
  },
  {
   "cell_type": "code",
   "execution_count": 8,
   "id": "018a6b8b-5f46-4766-a73d-dda72d85fe3f",
   "metadata": {},
   "outputs": [
    {
     "name": "stdout",
     "output_type": "stream",
     "text": [
      "\n",
      "Tokens after Lowercasing: ['natur', 'languag', 'process', 'nlp', 'sub-field', 'artifici', 'intellig', 'involv', 'interact', 'comput', 'human', 'languag', 'goal', 'nlp', 'enabl', 'comput', 'understand', 'interpret', 'gener', 'human', 'languag']\n"
     ]
    }
   ],
   "source": [
    "# Step 8: Lowercasing (Convert all words to lowercase)\n",
    "processed_tokens = [word.lower() for word in stemmed_tokens]\n",
    "\n",
    "# Output tokens after lowercasing\n",
    "print(\"\\nTokens after Lowercasing:\", processed_tokens)\n"
   ]
  },
  {
   "cell_type": "code",
   "execution_count": 9,
   "id": "e7cc8c24-ebd8-470a-81bb-221a52101382",
   "metadata": {},
   "outputs": [
    {
     "name": "stdout",
     "output_type": "stream",
     "text": [
      "\n",
      "Original and Stemmed Words:\n",
      "Original: Natural -> Stemmed: natur\n",
      "Original: Language -> Stemmed: languag\n",
      "Original: Processing -> Stemmed: process\n",
      "Original: NLP -> Stemmed: nlp\n",
      "Original: sub-field -> Stemmed: sub-field\n",
      "Original: artificial -> Stemmed: artifici\n",
      "Original: intelligence -> Stemmed: intellig\n",
      "Original: involves -> Stemmed: involv\n",
      "Original: interaction -> Stemmed: interact\n",
      "Original: computers -> Stemmed: comput\n",
      "Original: human -> Stemmed: human\n",
      "Original: languages -> Stemmed: languag\n",
      "Original: goal -> Stemmed: goal\n",
      "Original: enable -> Stemmed: enabl\n",
      "Original: understand -> Stemmed: understand\n",
      "Original: interpret -> Stemmed: interpret\n",
      "Original: generate -> Stemmed: gener\n",
      "Original: language -> Stemmed: languag\n"
     ]
    }
   ],
   "source": [
    "stemmer = PorterStemmer()\n",
    "\n",
    "# Create a dictionary to store original word and its corresponding stemmed word\n",
    "original_and_stemmed = {word: stemmer.stem(word) for word in filtered_tokens}\n",
    "\n",
    "# Output original and stemmed word pairs\n",
    "print(\"\\nOriginal and Stemmed Words:\")\n",
    "for original, stemmed in original_and_stemmed.items():\n",
    "    print(f\"Original: {original} -> Stemmed: {stemmed}\")\n",
    "    "
   ]
  },
  {
   "cell_type": "code",
   "execution_count": null,
   "id": "bdc40ac7-6f1f-4be4-a081-29eb9f575574",
   "metadata": {},
   "outputs": [],
   "source": []
  }
 ],
 "metadata": {
  "kernelspec": {
   "display_name": "Python 3 (ipykernel)",
   "language": "python",
   "name": "python3"
  },
  "language_info": {
   "codemirror_mode": {
    "name": "ipython",
    "version": 3
   },
   "file_extension": ".py",
   "mimetype": "text/x-python",
   "name": "python",
   "nbconvert_exporter": "python",
   "pygments_lexer": "ipython3",
   "version": "3.12.1"
  }
 },
 "nbformat": 4,
 "nbformat_minor": 5
}
