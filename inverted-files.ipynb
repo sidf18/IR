{
 "cells": [
  {
   "cell_type": "markdown",
   "metadata": {
    "id": "kVzbVSI8Kuov"
   },
   "source": [
    "# Assignment 2"
   ]
  },
  {
   "cell_type": "markdown",
   "metadata": {
    "id": "-tirKdV5KC_v"
   },
   "source": [
    "Implement a program for retrieval of documents using inverted files."
   ]
  },
  {
   "cell_type": "code",
   "execution_count": 1,
   "metadata": {
    "id": "xcJlIIZZE2aw"
   },
   "outputs": [],
   "source": [
    "import nltk\n",
    "from collections import defaultdict\n",
    "from nltk.tokenize import sent_tokenize, word_tokenize"
   ]
  },
  {
   "cell_type": "code",
   "execution_count": 2,
   "metadata": {
    "id": "ZihyT7d8JZ2h"
   },
   "outputs": [],
   "source": [
    "corpus = [\n",
    "    \"\"\"\n",
    "    So she swallowed one of the cakes and was delighted to find that she\n",
    "    began shrinking directly. As soon as she was small enough to get through the door,\n",
    "    she ran out of the house and found quite a crowd of little animals and birds waiting outside.\n",
    "    They all made a rush at Alice the moment she appeared, but she ran off as hard as\n",
    "    she could and soon found herself safe in a thick wood.\n",
    "    \"\"\",\n",
    "    \"\"\"\n",
    "    If two strips of different metals, such as silver and iron, be soldered together\n",
    "    at one end, and the other ends be connected with a galvanometer, on heating the\n",
    "    soldered junction of the metals it will be found that a current of electricity\n",
    "    traverses the circuit from the iron to the silver. If other metals be used,\n",
    "    having the same size, and the same degree of heat be applied, the current of\n",
    "    electricity thus generated will give a greater or a less deflection, which will be\n",
    "    constant for the metals employed. The two metals generally employed are bismuth\n",
    "    and antimony, in bars about an inch long and an eighth of an inch square.\n",
    "    These are soldered together in series so as to present for faces the ends of the\n",
    "    bars, and these often number as many as fifty pairs. Such a series is called a thermo-pile.\n",
    "    This method of[25] generating electricity was discovered by Seebeck of Berlin in 1821,\n",
    "    but the thermo-pile so much in use now in heat investigations was invented by Nobili in 1835.\n",
    "    \"\"\",\n",
    "    \"\"\"\n",
    "    According to this authority a field testing laboratory will cost for equipment $250 to $350.\n",
    "    Such a laboratory can be operated by two or three men at a salary charge of from $100 to $200\n",
    "    per month. Two men will test on an average four samples per day and each additional man will\n",
    "    test four more samples. The cost of testing will range from $3 to $5 per sample, which\n",
    "    is roughly equivalent to 3 cts. per barrel of[Pg 5] cement, or from 3 to 5 cts.per cubic yard\n",
    "    of concrete. These figures are for field laboratory work reasonably well conducted\n",
    "    under ordinarily favorable conditions. In large laboratories the cost per sample will\n",
    "    run somewhat lower.\n",
    "    \"\"\",\n",
    "    \"\"\"\n",
    "    Just then Alice ran across the Duchess (who was now out of prison). She tucked her arm\n",
    "    affectionately into Alice's and they walked off together. Alice was very glad to find her in\n",
    "    such a pleasant temper. She was a little startled, however, when she heard the voice of the\n",
    "    Duchess close to her ear. \"You're thinking about something, my dear, and that makes you forget to talk.\"\n",
    "    \"\"\",\n",
    "    \"\"\"\n",
    "    It was the jackal—Tabaqui, the Dish-licker—and the wolves of India despise Tabaqui because he\n",
    "    runs about making mischief, and telling tales, and eating rags and pieces of leather from the\n",
    "    village rubbish-heaps. But they are afraid of him too, because Tabaqui, more than\n",
    "    anyone else in the jungle, is apt to go mad, and then he forgets that he was ever afraid of\n",
    "    anyone, and runs through the forest biting everything in his way. Even the tiger runs and\n",
    "    hides when little Tabaqui goes mad, for madness is the most disgraceful thing that can\n",
    "    overtake a wild creature. We call it hydrophobia, but they call it dewanee—the madness—and run.\n",
    "    \"\"\",\n",
    "    \"\"\"\n",
    "    A great roofless palace crowned the hill, and the marble of the courtyards and the fountains\n",
    "    was split, and stained with red and green, and the very cobblestones in the courtyard where the\n",
    "    king’s elephants used to live had been thrust up and apart by grasses and young trees.\n",
    "    From the palace you could see the rows and rows of roofless houses that made up the city looking\n",
    "    like empty honeycombs filled with blackness; the shapeless block of stone that had been an idol\n",
    "    in the square where four roads met; the pits and dimples at street corners where the public wells\n",
    "    once stood, and the shattered domes of temples with wild figs sprouting on their sides.\n",
    "    The monkeys called the place their city, and pretended to despise the Jungle-People because they\n",
    "    lived in the forest. And yet they never knew what the buildings were made for nor how to use them.\n",
    "    They would sit in circles on the hall of the king’s council chamber, and scratch for fleas and\n",
    "    pretend to be men; or they would run in and out of the roofless houses and collect pieces of plaster\n",
    "    and old bricks in a corner, and forget where they had hidden them, and fight and cry in scuffling crowds,\n",
    "    and then break off to play up and down the terraces of the king’s garden, where they would shake the\n",
    "    rose trees and the oranges in sport to see the fruit and flowers fall. They explored all the passages\n",
    "    and dark tunnels in the palace and the hundreds of little dark rooms, but they never remembered what\n",
    "    they had seen and what they had not; and so drifted about in ones and twos or crowds telling each\n",
    "    other that they were doing as men did. They drank at the tanks and made the water all muddy,\n",
    "    and then they fought over it, and then they would all rush together in mobs and shout:\n",
    "    \"There is no one in the jungle so wise and good and clever and strong and gentle as the Bandar-log.\"\n",
    "    Then all would begin again till they grew tired of the city and went back to the tree-tops,\n",
    "    hoping the Jungle-People would notice them.\n",
    "    \"\"\"\n",
    "]"
   ]
  },
  {
   "cell_type": "code",
   "execution_count": 3,
   "metadata": {
    "colab": {
     "base_uri": "https://localhost:8080/",
     "height": 0
    },
    "id": "kfxrzxIwFPFP",
    "outputId": "a1cdb4d4-0b43-4d98-fbb9-2efc817b17f2"
   },
   "outputs": [
    {
     "name": "stderr",
     "output_type": "stream",
     "text": [
      "[nltk_data] Downloading package punkt to\n",
      "[nltk_data]     C:\\Users\\bhagy\\AppData\\Roaming\\nltk_data...\n",
      "[nltk_data]   Package punkt is already up-to-date!\n"
     ]
    },
    {
     "data": {
      "text/plain": [
       "True"
      ]
     },
     "execution_count": 3,
     "metadata": {},
     "output_type": "execute_result"
    }
   ],
   "source": [
    "nltk.download('punkt')"
   ]
  },
  {
   "cell_type": "code",
   "execution_count": 4,
   "metadata": {
    "colab": {
     "base_uri": "https://localhost:8080/",
     "height": 0
    },
    "id": "xlbTX6rkFHZd",
    "outputId": "9a48bf1f-f6ee-4e49-f8ec-ea80c6f71bad"
   },
   "outputs": [
    {
     "data": {
      "text/plain": [
       "1019"
      ]
     },
     "execution_count": 4,
     "metadata": {},
     "output_type": "execute_result"
    }
   ],
   "source": [
    "# This will contain a list of all words in the corpus\n",
    "corpus_words = []\n",
    "\n",
    "# Tokenize a paragraph into sentences and each sentence in to\n",
    "# words\n",
    "for c in corpus:\n",
    "    for sent in sent_tokenize(c):\n",
    "        word_tokens = word_tokenize(sent)\n",
    "        corpus_words += word_tokens\n",
    "\n",
    "len(corpus_words)"
   ]
  },
  {
   "cell_type": "code",
   "execution_count": 5,
   "metadata": {
    "colab": {
     "base_uri": "https://localhost:8080/",
     "height": 0
    },
    "id": "G2JfDkm5FUVo",
    "outputId": "639b0af9-c67a-42f7-a6b5-d51c7eff72c9"
   },
   "outputs": [
    {
     "data": {
      "text/plain": [
       "432"
      ]
     },
     "execution_count": 5,
     "metadata": {},
     "output_type": "execute_result"
    }
   ],
   "source": [
    "lower_corpus_words = set([ x.lower() for x in corpus_words ])\n",
    "len(lower_corpus_words)"
   ]
  },
  {
   "cell_type": "code",
   "execution_count": 6,
   "metadata": {
    "colab": {
     "base_uri": "https://localhost:8080/",
     "height": 0
    },
    "id": "D0qNQLQcFmch",
    "outputId": "e1e12241-580b-458c-bcef-56e3236d9a39"
   },
   "outputs": [
    {
     "name": "stderr",
     "output_type": "stream",
     "text": [
      "[nltk_data] Downloading package stopwords to\n",
      "[nltk_data]     C:\\Users\\bhagy\\AppData\\Roaming\\nltk_data...\n",
      "[nltk_data]   Package stopwords is already up-to-date!\n"
     ]
    },
    {
     "data": {
      "text/plain": [
       "True"
      ]
     },
     "execution_count": 6,
     "metadata": {},
     "output_type": "execute_result"
    }
   ],
   "source": [
    "nltk.download('stopwords')"
   ]
  },
  {
   "cell_type": "code",
   "execution_count": 7,
   "metadata": {
    "colab": {
     "base_uri": "https://localhost:8080/",
     "height": 0
    },
    "id": "tKmwqfzQFhIb",
    "outputId": "49e0c5a3-913d-4af5-e80e-10540492ca1a"
   },
   "outputs": [
    {
     "data": {
      "text/plain": [
       "350"
      ]
     },
     "execution_count": 7,
     "metadata": {},
     "output_type": "execute_result"
    }
   ],
   "source": [
    "# Remove the stopwords\n",
    "from nltk.corpus import stopwords\n",
    "\n",
    "stwords = set(stopwords.words('english'))\n",
    "\n",
    "# Using set difference to eliminate stopwords from our words\n",
    "stopfree_words = lower_corpus_words - stwords\n",
    "len(stopfree_words)"
   ]
  },
  {
   "cell_type": "code",
   "execution_count": 8,
   "metadata": {
    "colab": {
     "base_uri": "https://localhost:8080/",
     "height": 0
    },
    "id": "B5PN6WqUFpuw",
    "outputId": "9e3d98e7-eace-4146-aa92-a2c8be623a75"
   },
   "outputs": [
    {
     "data": {
      "text/plain": [
       "330"
      ]
     },
     "execution_count": 8,
     "metadata": {},
     "output_type": "execute_result"
    }
   ],
   "source": [
    "from nltk.stem import snowball\n",
    "\n",
    "stemmer = snowball.SnowballStemmer('english')\n",
    "stemmed_words = set([stemmer.stem(x) for x in stopfree_words])\n",
    "len(stemmed_words)"
   ]
  },
  {
   "cell_type": "code",
   "execution_count": 9,
   "metadata": {
    "colab": {
     "base_uri": "https://localhost:8080/",
     "height": 0
    },
    "id": "W0Qki5SDHzG8",
    "outputId": "82c07aa7-c050-4c0b-dfe0-75d17f99f570"
   },
   "outputs": [
    {
     "name": "stdout",
     "output_type": "stream",
     "text": [
      "{'anyon', 'india', 'tuck', 'templ', 'degre', 'littl', '1835', '250', 'dome', 'investig', 'king', 'seebeck', 'grass', 'citi', 'despis', 'crowd', 'cubic', 'knew', 'tree-top', 'rubbish-heap', 'small', 'young', 'way', 'lower', 'bandar-log', 'fill', 'soon', 'galvanomet', 'nobili', 'pit', 'seen', 'shatter', 'split', 'garden', 'tiger', 'end', 'mob', 'equival', 'figur', 'plaster', 'travers', 'courtyard', 'sampl', 'heard', 'dear', 'day', ',', 'twos', '’', 'mischief', 'test', 'yet', 'hydrophobia', 'work', \"'s\", 'fight', 'play', 'brick', 'long', 'fought', 'cost', 'solder', 'place', 'glad', 'differ', 'rememb', 'inch', 'thus', 'went', 'side', 'use', 'less', 'villag', 'someth', 'cts.per', 'could', '200', 'red', 'antimoni', 'ear', 'hide', 'tree', 'thermo-pil', 'barrel', 'safe', 'idol', 'howev', 'give', 'conduct', 'see', 'addit', 'equip', 'chamber', '100', 'reason', 'wild', 'electr', 'road', 'monkey', 'hill', 'els', 'shake', 'pg', 'quit', 'sprout', 'tank', 'piec', 'present', 'strip', 'tell', 'three', 'talk', 'deflect', 'shout', 'water', 'much', 'flower', 'black', 'honeycomb', 'ever', '5', 'oper', 'public', 'met', 'never', 'tunnel', 'orang', 'two', 'togeth', 'notic', 'affection', 'begin', 'walk', 'explor', 'moment', 'bismuth', 'gentl', 'current', 'dark', 'madness—and', 'constant', '``', 'bite', 'marbl', 'pleasant', 'apt', 'dish-licker—and', 'per', 'circuit', 'seri', ';', 'hope', 'palac', 'till', 'arm', 'overtak', 'street', 'condit', 'look', '(', 'fruit', 'swallow', 'fountain', 'disgrac', 'jackal—tabaqui', 'men', 'jungl', 'four', 'block', 'anim', 'invent', ':', 'jungle-peopl', 'creatur', 'drift', 'outsid', 'fall', 'stain', 'forest', 'run', 'go', 'found', 'scuffl', 'flea', 'grew', 'pair', 'would', 'hous', 'old', 'silver', 'averag', 'voic', 'good', 'hall', 'well', \"''\", 'wood', '$', 'connect', 'hundr', 'month', 'wolv', 'call', 'forget', 'squar', 'wait', 'mad', 'method', 'room', 'sit', 'rang', 'fig', 'everyth', 'favor', 'junction', 'apart', 'muddi', 'cake', 'crown', 'prison', 'like', 'eleph', 'hidden', 'bird', 'rag', 'green', 'employ', 'made', 'startl', 'number', 'door', 'alic', 'thick', 'one', 'circl', 'stood', 'find', 'passag', ')', 'iron', 'across', 'enough', 'bar', 'make', 'row', 'shapeless', 'field', 'yard', 'live', 'cement', '25', 'salari', 'great', 'council', 'break', 'heat', 'build', 'get', 'stone', '3', 'charg', 'man', 'often', 'tabaqui', 'eat', 'rush', 'began', 'rough', 'cts', 'appear', 'concret', 'accord', '[', 'tire', 'scratch', 'sport', '350', 'collect', 'goe', 'face', '.', 'terrac', 'laboratori', 'berlin', 'delight', 'fifti', 'think', 'dewanee—th', 'size', 'pretend', 'dimpl', 'author', 'thing', 'close', 'drank', 'leather', 'roofless', '1821', 'somewhat', 'general', 'greater', 'ran', 'eighth', 'tale', 'generat', 'larg', 'strong', 'duchess', 'empti', 'discov', 'afraid', 'appli', 'clever', 'hard', ']', 'cobbleston', 'corner', 'rose', 'cri', 'direct', 'wise', 'mani', 'even', 'thrust', 'shrink', 'back', 'metal', 'temper', 're', 'ordinarili'}\n"
     ]
    }
   ],
   "source": [
    "print(stemmed_words)"
   ]
  },
  {
   "cell_type": "code",
   "execution_count": 10,
   "metadata": {
    "colab": {
     "base_uri": "https://localhost:8080/",
     "height": 0
    },
    "id": "sroNw_ycFuVd",
    "outputId": "e7da45d8-2661-4154-909f-57755238a4f1"
   },
   "outputs": [
    {
     "data": {
      "text/plain": [
       "330"
      ]
     },
     "execution_count": 10,
     "metadata": {},
     "output_type": "execute_result"
    }
   ],
   "source": [
    "# Our index is a map of word -> documents it is found in\n",
    "inverted_index = defaultdict(set)\n",
    "\n",
    "# We maintain the reference to the document by its index in the corpus list\n",
    "for docid, c in enumerate(corpus):\n",
    "    for sent in sent_tokenize(c):\n",
    "        for word in word_tokenize(sent):\n",
    "            word_lower = word.lower()\n",
    "            if word_lower not in stwords:\n",
    "                word_stem = stemmer.stem(word_lower)\n",
    "                # We add the document to the set againt the word in our\n",
    "                # index\n",
    "                inverted_index[word_stem].add(docid)\n",
    "\n",
    "len(inverted_index.keys())"
   ]
  },
  {
   "cell_type": "code",
   "execution_count": 11,
   "metadata": {
    "id": "Fz7uzubKF0Ed"
   },
   "outputs": [],
   "source": [
    "def process_and_search(query):\n",
    "    matched_documents = set()\n",
    "    for word in word_tokenize(query):\n",
    "        word_lower = word.lower()\n",
    "        if word_lower not in stwords:\n",
    "            word_stem = stemmer.stem(word_lower)\n",
    "            matches = inverted_index.get(word_stem)\n",
    "            if matches:\n",
    "                # The operator |= is a short hand for set union\n",
    "                matched_documents |= matches\n",
    "    return matched_documents"
   ]
  },
  {
   "cell_type": "code",
   "execution_count": 12,
   "metadata": {
    "colab": {
     "base_uri": "https://localhost:8080/",
     "height": 0
    },
    "id": "qRPHI76oF4DA",
    "outputId": "e3f66991-dad4-40ea-8ce2-0af57e850a24"
   },
   "outputs": [
    {
     "data": {
      "text/plain": [
       "{0, 3}"
      ]
     },
     "execution_count": 12,
     "metadata": {},
     "output_type": "execute_result"
    }
   ],
   "source": [
    "process_and_search(\"alice\")"
   ]
  },
  {
   "cell_type": "markdown",
   "metadata": {
    "id": "Iolc2xPjJmwn"
   },
   "source": [
    "the word alice - as per our index - appears in documents 0 and 3."
   ]
  },
  {
   "cell_type": "code",
   "execution_count": 13,
   "metadata": {
    "colab": {
     "base_uri": "https://localhost:8080/",
     "height": 0
    },
    "id": "_BoB3i4CF74b",
    "outputId": "540ae530-978a-4e4d-8f5b-cc7d75bada68"
   },
   "outputs": [
    {
     "data": {
      "text/plain": [
       "set()"
      ]
     },
     "execution_count": 13,
     "metadata": {},
     "output_type": "execute_result"
    }
   ],
   "source": [
    "process_and_search(\"coward\")"
   ]
  },
  {
   "cell_type": "markdown",
   "metadata": {
    "id": "cHOlOA5_Jtac"
   },
   "source": [
    "coward does not appear in our corpus."
   ]
  },
  {
   "cell_type": "code",
   "execution_count": 14,
   "metadata": {
    "colab": {
     "base_uri": "https://localhost:8080/",
     "height": 0
    },
    "id": "MIliIzoJF_-s",
    "outputId": "60a9f80d-e9d9-4c39-e079-c37d049132a2"
   },
   "outputs": [
    {
     "data": {
      "text/plain": [
       "{2, 4, 5}"
      ]
     },
     "execution_count": 14,
     "metadata": {},
     "output_type": "execute_result"
    }
   ],
   "source": [
    "process_and_search(\"run\")"
   ]
  },
  {
   "cell_type": "markdown",
   "metadata": {
    "id": "4RnsZ01xJwuy"
   },
   "source": [
    "run appears in documents - 2, 4 and 5"
   ]
  },
  {
   "cell_type": "code",
   "execution_count": 15,
   "metadata": {
    "colab": {
     "base_uri": "https://localhost:8080/",
     "height": 0
    },
    "id": "6wwcP12xGD72",
    "outputId": "1a8aecf1-7001-4f9d-ddf7-170847de7ab6"
   },
   "outputs": [
    {
     "data": {
      "text/plain": [
       "{0, 1, 5}"
      ]
     },
     "execution_count": 15,
     "metadata": {},
     "output_type": "execute_result"
    }
   ],
   "source": [
    "process_and_search(\"metal crowds\")"
   ]
  },
  {
   "cell_type": "markdown",
   "metadata": {
    "id": "vfKuZ8WHJzvm"
   },
   "source": [
    "we used |= (set.union) operation when processing the query, if a document matches any one of the words in the query"
   ]
  }
 ],
 "metadata": {
  "colab": {
   "provenance": []
  },
  "kernelspec": {
   "display_name": "Python 3 (ipykernel)",
   "language": "python",
   "name": "python3"
  },
  "language_info": {
   "codemirror_mode": {
    "name": "ipython",
    "version": 3
   },
   "file_extension": ".py",
   "mimetype": "text/x-python",
   "name": "python",
   "nbconvert_exporter": "python",
   "pygments_lexer": "ipython3",
   "version": "3.11.1"
  }
 },
 "nbformat": 4,
 "nbformat_minor": 4
}
